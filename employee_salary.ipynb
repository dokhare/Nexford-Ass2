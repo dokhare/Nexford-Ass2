{
 "cells": [
  {
   "cell_type": "markdown",
   "id": "432fc732-22cf-4aa7-b6e6-378db0f41aaa",
   "metadata": {},
   "source": [
    "# Import all necesasry libraries for this script to work"
   ]
  },
  {
   "cell_type": "code",
   "execution_count": 1,
   "id": "4a643aa7-12b1-472b-8fc4-74668b16c5fc",
   "metadata": {},
   "outputs": [],
   "source": [
    "import pandas as pd\n",
    "import zipfile\n",
    "import os\n",
    "from collections import defaultdict"
   ]
  },
  {
   "cell_type": "markdown",
   "id": "b3681dcd-b2c3-4655-86fc-d933a320a019",
   "metadata": {},
   "source": [
    "# Read the dataset and write a Python function that accepts an employee's name as input and returns their details. The seach is case insensitive. Implement error handling in your code"
   ]
  },
  {
   "cell_type": "code",
   "execution_count": 2,
   "id": "5cd76cdc-a733-4565-b44a-bfdbc4d565ad",
   "metadata": {},
   "outputs": [
    {
     "data": {
      "text/html": [
       "<div>\n",
       "<style scoped>\n",
       "    .dataframe tbody tr th:only-of-type {\n",
       "        vertical-align: middle;\n",
       "    }\n",
       "\n",
       "    .dataframe tbody tr th {\n",
       "        vertical-align: top;\n",
       "    }\n",
       "\n",
       "    .dataframe thead th {\n",
       "        text-align: right;\n",
       "    }\n",
       "</style>\n",
       "<table border=\"1\" class=\"dataframe\">\n",
       "  <thead>\n",
       "    <tr style=\"text-align: right;\">\n",
       "      <th></th>\n",
       "      <th>EmployeeName</th>\n",
       "      <th>JobTitle</th>\n",
       "      <th>BasePay</th>\n",
       "      <th>OvertimePay</th>\n",
       "      <th>OtherPay</th>\n",
       "      <th>Benefits</th>\n",
       "      <th>TotalPay</th>\n",
       "      <th>TotalPayBenefits</th>\n",
       "      <th>Year</th>\n",
       "    </tr>\n",
       "  </thead>\n",
       "  <tbody>\n",
       "    <tr>\n",
       "      <th>0</th>\n",
       "      <td>NATHANIEL FORD</td>\n",
       "      <td>GENERAL MANAGER-METROPOLITAN TRANSIT AUTHORITY</td>\n",
       "      <td>167411.18</td>\n",
       "      <td>0.00</td>\n",
       "      <td>400184.25</td>\n",
       "      <td>Not Provided</td>\n",
       "      <td>567595.43</td>\n",
       "      <td>567595.43</td>\n",
       "      <td>2011</td>\n",
       "    </tr>\n",
       "  </tbody>\n",
       "</table>\n",
       "</div>"
      ],
      "text/plain": [
       "     EmployeeName                                        JobTitle    BasePay  \\\n",
       "0  NATHANIEL FORD  GENERAL MANAGER-METROPOLITAN TRANSIT AUTHORITY  167411.18   \n",
       "\n",
       "  OvertimePay   OtherPay      Benefits   TotalPay  TotalPayBenefits  Year  \n",
       "0        0.00  400184.25  Not Provided  567595.43         567595.43  2011  "
      ]
     },
     "execution_count": 2,
     "metadata": {},
     "output_type": "execute_result"
    }
   ],
   "source": [
    "\n",
    "# Read the dataset with error handling\n",
    "try:\n",
    "    df = pd.read_csv('Total.csv', low_memory=False)\n",
    "\n",
    "except FileNotFoundError:\n",
    "    print(\"❌ Error: Dataset file not found. Please check the file path.\")\n",
    "    df = pd.DataFrame()\n",
    "except Exception as e:\n",
    "    print(f\"❌ An unexpected error occurred while reading the file: {e}\")\n",
    "    df = pd.DataFrame()\n",
    "\n",
    "# A Python function that accepts an employee's name as input and returns their details. \n",
    "# The search is case insensitive\n",
    "\n",
    "def get_employee_details(employee_name, df):\n",
    "    try:\n",
    "        result = df[df['EmployeeName'].str.lower() == employee_name.lower()]\n",
    "        if result.empty:\n",
    "            print(f\"No record found for employee: {employee_name}\")\n",
    "            return None\n",
    "        return result\n",
    "    except KeyError:\n",
    "        print(\"❌ Error: 'EmployeeName' column not found in the dataset.\")\n",
    "    except Exception as e:\n",
    "        print(f\"❌ Unexpected error: {e}\")\n",
    "    return None\n",
    "    \n",
    "# Try retrieving a specific employee's data from the get_employee_details function\n",
    "get_employee_details(\"NATHANIEL FORD\", df) \n"
   ]
  },
  {
   "cell_type": "markdown",
   "id": "b5eac59c-8adc-4b7c-bb95-cca42db3028c",
   "metadata": {},
   "source": [
    "# Process the data into a dictionary. Again, remember to implement error handling in your code"
   ]
  },
  {
   "cell_type": "code",
   "execution_count": 3,
   "id": "973b57e9-9625-4bb0-99a3-3ebc92ced80e",
   "metadata": {},
   "outputs": [
    {
     "data": {
      "text/plain": [
       "[{'JobTitle': 'GENERAL MANAGER-METROPOLITAN TRANSIT AUTHORITY',\n",
       "  'BasePay': '167411.18',\n",
       "  'OvertimePay': '0.00',\n",
       "  'OtherPay': '400184.25',\n",
       "  'Benefits': 'Not Provided',\n",
       "  'TotalPay': 567595.43,\n",
       "  'TotalPayBenefits': 567595.43,\n",
       "  'Year': 2011}]"
      ]
     },
     "execution_count": 3,
     "metadata": {},
     "output_type": "execute_result"
    }
   ],
   "source": [
    "\n",
    "# Process data into dictionary\n",
    "employee_dict = defaultdict(list)\n",
    "\n",
    "if not df.empty:\n",
    "    try:\n",
    "        required_columns = ['EmployeeName', 'JobTitle', 'BasePay', 'OvertimePay',\n",
    "                            'OtherPay', 'Benefits', 'TotalPay', 'TotalPayBenefits', 'Year']\n",
    "        for _, row in df.iterrows():\n",
    "                name = str(row['EmployeeName']).strip()\n",
    "                data = {\n",
    "                    \"JobTitle\": row[\"JobTitle\"],\n",
    "                    \"BasePay\": row[\"BasePay\"],\n",
    "                    \"OvertimePay\": row[\"OvertimePay\"],\n",
    "                    \"OtherPay\": row[\"OtherPay\"],\n",
    "                    \"Benefits\": row[\"Benefits\"],\n",
    "                    \"TotalPay\": row[\"TotalPay\"],\n",
    "                    \"TotalPayBenefits\": row[\"TotalPayBenefits\"],\n",
    "                    \"Year\": row[\"Year\"]\n",
    "                }\n",
    "                employee_dict[name].append(data)\n",
    "           \n",
    "    except Exception as e:\n",
    "        print(f\"❌ Failed to build employee dictionary: {e}\")\n",
    "\n",
    "# Function to retrieve from dictionary. We will use this fucntion later in the export to zipped file code\n",
    "def get_employee_from_dict(name, data_dict):\n",
    "    try:\n",
    "        records = data_dict.get(name.strip(), None)\n",
    "        if not records:\n",
    "            print(f\"No records found for employee: {name}\")\n",
    "            return None\n",
    "        return records\n",
    "    except Exception as e:\n",
    "        print(f\"❌ Error retrieving employee data: {e}\")\n",
    "        return None\n",
    "\n",
    "# Let's test the code\n",
    "get_employee_from_dict(\"NATHANIEL FORD\",employee_dict)\n"
   ]
  },
  {
   "cell_type": "markdown",
   "id": "b689f0f3-c7a6-41a1-92af-951b6ccb25df",
   "metadata": {},
   "source": [
    "# It's now time to use  the employee_dict created above. Create a function to export an exployee's data to csv and zip it. \n"
   ]
  },
  {
   "cell_type": "code",
   "execution_count": 7,
   "id": "9fcbb2a4-2dee-4c90-978b-84d82a686426",
   "metadata": {},
   "outputs": [
    {
     "name": "stdout",
     "output_type": "stream",
     "text": [
      "✅ Employee profile for 'Joseph Driscoll' has been saved to 'Employee Profile.zip'.\n"
     ]
    }
   ],
   "source": [
    "\n",
    "# A function to export to zipped CSV. Get data from the dictionary to csv and zip it\n",
    "def export_employee_profile_to_zip(name, employee_dict):\n",
    "    try:\n",
    "        name_clean = name.strip()\n",
    "        records = employee_dict.get(name_clean)\n",
    "\n",
    "        if not records:\n",
    "            print(f\"No records found for employee: {name}\")\n",
    "            return\n",
    "\n",
    "        df_out = pd.DataFrame(records)\n",
    "        csv_filename = f\"{name_clean.replace(' ', '_')}_Profile.csv\"\n",
    "        df_out.to_csv(csv_filename, index=False)\n",
    "\n",
    "        zip_filename = \"Employee Profile.zip\"\n",
    "        with zipfile.ZipFile(zip_filename, 'w', zipfile.ZIP_DEFLATED) as zipf:\n",
    "            zipf.write(csv_filename)\n",
    "\n",
    "        os.remove(csv_filename)\n",
    "        print(f\"✅ Employee profile for '{name}' has been saved to '{zip_filename}'.\")\n",
    "\n",
    "    except PermissionError:\n",
    "        print(\"❌ Permission denied when writing files. Try running as administrator.\")\n",
    "    except Exception as e:\n",
    "        print(f\"❌ Failed to export employee profile: {e}\")\n",
    "\n",
    "# Let's now text all the codes\n",
    "\n",
    "# Export an exmployee's data using the dictionary function into a csv file and zipp it\n",
    "export_employee_profile_to_zip(\"Joseph Driscoll\", employee_dict)\n"
   ]
  },
  {
   "cell_type": "code",
   "execution_count": null,
   "id": "10c32c21-6514-48c1-8aca-2a70f4b12a24",
   "metadata": {},
   "outputs": [],
   "source": []
  }
 ],
 "metadata": {
  "kernelspec": {
   "display_name": "Python 3 (ipykernel)",
   "language": "python",
   "name": "python3"
  },
  "language_info": {
   "codemirror_mode": {
    "name": "ipython",
    "version": 3
   },
   "file_extension": ".py",
   "mimetype": "text/x-python",
   "name": "python",
   "nbconvert_exporter": "python",
   "pygments_lexer": "ipython3",
   "version": "3.13.3"
  }
 },
 "nbformat": 4,
 "nbformat_minor": 5
}
